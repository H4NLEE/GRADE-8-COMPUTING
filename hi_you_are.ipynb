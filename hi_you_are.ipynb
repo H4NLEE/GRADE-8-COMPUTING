{
  "nbformat": 4,
  "nbformat_minor": 0,
  "metadata": {
    "colab": {
      "provenance": []
    },
    "kernelspec": {
      "name": "python3",
      "display_name": "Python 3"
    },
    "language_info": {
      "name": "python"
    }
  },
  "cells": [
    {
      "cell_type": "code",
      "source": [
        "# math operator + - / % *\n",
        "# not put space in between\n",
        "# input = determined the data types\n",
        "name = input(\"please type your name: \")\n",
        "age = input(\"please input your age: \")\n",
        "print(\"hi\",name, \"you are\",age, \"years old\")"
      ],
      "metadata": {
        "colab": {
          "base_uri": "https://localhost:8080/"
        },
        "id": "Wb1ubmaS9Jqa",
        "outputId": "97d15037-f016-4517-adeb-14d9083a3776"
      },
      "execution_count": 35,
      "outputs": [
        {
          "output_type": "stream",
          "name": "stdout",
          "text": [
            "please type your name: sigma males\n",
            "please input your age: 69\n",
            "hi sigma males you are 69 years old\n"
          ]
        }
      ]
    }
  ]
}